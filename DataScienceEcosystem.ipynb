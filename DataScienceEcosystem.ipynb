{
 "cells": [
  {
   "cell_type": "markdown",
   "id": "b916f4c0-8b36-458c-858d-ada640c1f998",
   "metadata": {},
   "source": [
    "# Data Science Tools and Ecosystem"
   ]
  },
  {
   "cell_type": "markdown",
   "id": "f4fb36c2-5da7-4390-8c86-9c54a7fa5b36",
   "metadata": {},
   "source": [
    "In this notebook, Data Science Tools and Ecosystem are summarized"
   ]
  },
  {
   "cell_type": "markdown",
   "id": "d8ab3cf6-bc52-46bb-8045-00566bd3cdd7",
   "metadata": {},
   "source": [
    "<b>Objectives:</b>\n",
    "\n",
    "* List popular languages for Data Science\n",
    "* List popular libraries for Data Science\n",
    "* Introduce arithmetic expression examples\n",
    "* Convert minutes to hours"
   ]
  },
  {
   "cell_type": "markdown",
   "id": "dc52737b-6c3e-48dc-ada7-8286e3bc7b69",
   "metadata": {},
   "source": [
    "Some of the most popular and useful languages that Data Scientists frequently use are:\n",
    "\n",
    "1. Python\n",
    "2. R\n",
    "3. SQL\n",
    "4. Java\n",
    "5. Julia\n",
    "6. Scala\n",
    "7. Spark\n"
   ]
  },
  {
   "cell_type": "markdown",
   "id": "062b03c6-004d-47bd-93d4-47bbfab365a4",
   "metadata": {},
   "source": [
    "Some of the commonly used libraries that Data Scientists frequently use are:\n",
    "\n",
    "1. NumPy\n",
    "2. Pandas\n",
    "3. Matplotlib\n",
    "4. Seaborn\n",
    "5. Scikit-Learn\n",
    "6. Keras\n",
    "7. TensorFlow\n"
   ]
  },
  {
   "cell_type": "markdown",
   "id": "55143a58-5903-448f-86b7-a62e266b9305",
   "metadata": {},
   "source": [
    "|Data Science Tools|\n",
    "|------------------|\n",
    "|Jupyter Notebook|\n",
    "|RStudio|\n",
    "|Visual Studio Code|"
   ]
  },
  {
   "cell_type": "markdown",
   "id": "c81860ce-6dc7-4b20-8b67-cbea1f6d5839",
   "metadata": {},
   "source": [
    "### Below are a few examples of evaluating arithmetic expressions in Python"
   ]
  },
  {
   "cell_type": "markdown",
   "id": "d0fa52ec-3c48-4e5b-818d-88e40b146c12",
   "metadata": {},
   "source": [
    "This a simple arithmetic expression to mutiply then add integers"
   ]
  },
  {
   "cell_type": "code",
   "execution_count": 18,
   "id": "9794f907-829f-4103-8f53-5b47132fcda8",
   "metadata": {
    "scrolled": true
   },
   "outputs": [
    {
     "data": {
      "text/plain": [
       "17"
      ]
     },
     "execution_count": 18,
     "metadata": {},
     "output_type": "execute_result"
    }
   ],
   "source": [
    "(3*4)+5"
   ]
  },
  {
   "cell_type": "markdown",
   "id": "4abdee04-a6ba-418f-a9aa-b6f206f58d8e",
   "metadata": {},
   "source": [
    "This will convert 200 minutes to hours by diving by 6"
   ]
  },
  {
   "cell_type": "code",
   "execution_count": 21,
   "id": "5945781f-0e78-47ec-9903-cace6cf62dc6",
   "metadata": {},
   "outputs": [
    {
     "data": {
      "text/plain": [
       "3.3333333333333335"
      ]
     },
     "execution_count": 21,
     "metadata": {},
     "output_type": "execute_result"
    }
   ],
   "source": [
    "200/60"
   ]
  },
  {
   "cell_type": "markdown",
   "id": "3ebc8ddb-3027-44ab-82bf-8d5603b1154e",
   "metadata": {},
   "source": [
    "## Author:\n",
    "Agustin"
   ]
  },
  {
   "cell_type": "code",
   "execution_count": null,
   "id": "ab40c9b3-c886-49e6-a2e3-936674afc869",
   "metadata": {},
   "outputs": [],
   "source": []
  }
 ],
 "metadata": {
  "kernelspec": {
   "display_name": "Python [conda env:base] *",
   "language": "python",
   "name": "conda-base-py"
  },
  "language_info": {
   "codemirror_mode": {
    "name": "ipython",
    "version": 3
   },
   "file_extension": ".py",
   "mimetype": "text/x-python",
   "name": "python",
   "nbconvert_exporter": "python",
   "pygments_lexer": "ipython3",
   "version": "3.12.7"
  }
 },
 "nbformat": 4,
 "nbformat_minor": 5
}
